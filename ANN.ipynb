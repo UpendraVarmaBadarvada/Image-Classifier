{
 "cells": [
  {
   "cell_type": "code",
   "execution_count": 1,
   "metadata": {},
   "outputs": [],
   "source": [
    "import numpy as np\n",
    "import matplotlib.pyplot as plt\n",
    "import pandas as pd"
   ]
  },
  {
   "cell_type": "code",
   "execution_count": 2,
   "metadata": {},
   "outputs": [],
   "source": [
    "import warnings\n",
    "warnings.filterwarnings(\"ignore\")"
   ]
  },
  {
   "cell_type": "code",
   "execution_count": 3,
   "metadata": {},
   "outputs": [],
   "source": [
    "dataset = pd.read_csv('Churn_Modelling.csv')\n",
    "X = dataset.iloc[:, 3:13].values\n",
    "y = dataset.iloc[:, 13].values"
   ]
  },
  {
   "cell_type": "code",
   "execution_count": 4,
   "metadata": {},
   "outputs": [
    {
     "data": {
      "text/plain": [
       "Index(['RowNumber', 'CustomerId', 'Surname', 'CreditScore', 'Geography',\n",
       "       'Gender', 'Age', 'Tenure', 'Balance', 'NumOfProducts', 'HasCrCard',\n",
       "       'IsActiveMember', 'EstimatedSalary', 'Exited'],\n",
       "      dtype='object')"
      ]
     },
     "execution_count": 4,
     "metadata": {},
     "output_type": "execute_result"
    }
   ],
   "source": [
    "dataset.columns"
   ]
  },
  {
   "cell_type": "code",
   "execution_count": 5,
   "metadata": {},
   "outputs": [
    {
     "data": {
      "text/html": [
       "<div>\n",
       "<style scoped>\n",
       "    .dataframe tbody tr th:only-of-type {\n",
       "        vertical-align: middle;\n",
       "    }\n",
       "\n",
       "    .dataframe tbody tr th {\n",
       "        vertical-align: top;\n",
       "    }\n",
       "\n",
       "    .dataframe thead th {\n",
       "        text-align: right;\n",
       "    }\n",
       "</style>\n",
       "<table border=\"1\" class=\"dataframe\">\n",
       "  <thead>\n",
       "    <tr style=\"text-align: right;\">\n",
       "      <th></th>\n",
       "      <th>RowNumber</th>\n",
       "      <th>CustomerId</th>\n",
       "      <th>Surname</th>\n",
       "      <th>CreditScore</th>\n",
       "      <th>Geography</th>\n",
       "      <th>Gender</th>\n",
       "      <th>Age</th>\n",
       "      <th>Tenure</th>\n",
       "      <th>Balance</th>\n",
       "      <th>NumOfProducts</th>\n",
       "      <th>HasCrCard</th>\n",
       "      <th>IsActiveMember</th>\n",
       "      <th>EstimatedSalary</th>\n",
       "      <th>Exited</th>\n",
       "    </tr>\n",
       "  </thead>\n",
       "  <tbody>\n",
       "    <tr>\n",
       "      <th>0</th>\n",
       "      <td>1</td>\n",
       "      <td>15634602</td>\n",
       "      <td>Hargrave</td>\n",
       "      <td>619</td>\n",
       "      <td>France</td>\n",
       "      <td>Female</td>\n",
       "      <td>42</td>\n",
       "      <td>2</td>\n",
       "      <td>0.00</td>\n",
       "      <td>1</td>\n",
       "      <td>1</td>\n",
       "      <td>1</td>\n",
       "      <td>101348.88</td>\n",
       "      <td>1</td>\n",
       "    </tr>\n",
       "    <tr>\n",
       "      <th>1</th>\n",
       "      <td>2</td>\n",
       "      <td>15647311</td>\n",
       "      <td>Hill</td>\n",
       "      <td>608</td>\n",
       "      <td>Spain</td>\n",
       "      <td>Female</td>\n",
       "      <td>41</td>\n",
       "      <td>1</td>\n",
       "      <td>83807.86</td>\n",
       "      <td>1</td>\n",
       "      <td>0</td>\n",
       "      <td>1</td>\n",
       "      <td>112542.58</td>\n",
       "      <td>0</td>\n",
       "    </tr>\n",
       "    <tr>\n",
       "      <th>2</th>\n",
       "      <td>3</td>\n",
       "      <td>15619304</td>\n",
       "      <td>Onio</td>\n",
       "      <td>502</td>\n",
       "      <td>France</td>\n",
       "      <td>Female</td>\n",
       "      <td>42</td>\n",
       "      <td>8</td>\n",
       "      <td>159660.80</td>\n",
       "      <td>3</td>\n",
       "      <td>1</td>\n",
       "      <td>0</td>\n",
       "      <td>113931.57</td>\n",
       "      <td>1</td>\n",
       "    </tr>\n",
       "    <tr>\n",
       "      <th>3</th>\n",
       "      <td>4</td>\n",
       "      <td>15701354</td>\n",
       "      <td>Boni</td>\n",
       "      <td>699</td>\n",
       "      <td>France</td>\n",
       "      <td>Female</td>\n",
       "      <td>39</td>\n",
       "      <td>1</td>\n",
       "      <td>0.00</td>\n",
       "      <td>2</td>\n",
       "      <td>0</td>\n",
       "      <td>0</td>\n",
       "      <td>93826.63</td>\n",
       "      <td>0</td>\n",
       "    </tr>\n",
       "    <tr>\n",
       "      <th>4</th>\n",
       "      <td>5</td>\n",
       "      <td>15737888</td>\n",
       "      <td>Mitchell</td>\n",
       "      <td>850</td>\n",
       "      <td>Spain</td>\n",
       "      <td>Female</td>\n",
       "      <td>43</td>\n",
       "      <td>2</td>\n",
       "      <td>125510.82</td>\n",
       "      <td>1</td>\n",
       "      <td>1</td>\n",
       "      <td>1</td>\n",
       "      <td>79084.10</td>\n",
       "      <td>0</td>\n",
       "    </tr>\n",
       "  </tbody>\n",
       "</table>\n",
       "</div>"
      ],
      "text/plain": [
       "   RowNumber  CustomerId   Surname  CreditScore Geography  Gender  Age  \\\n",
       "0          1    15634602  Hargrave          619    France  Female   42   \n",
       "1          2    15647311      Hill          608     Spain  Female   41   \n",
       "2          3    15619304      Onio          502    France  Female   42   \n",
       "3          4    15701354      Boni          699    France  Female   39   \n",
       "4          5    15737888  Mitchell          850     Spain  Female   43   \n",
       "\n",
       "   Tenure    Balance  NumOfProducts  HasCrCard  IsActiveMember  \\\n",
       "0       2       0.00              1          1               1   \n",
       "1       1   83807.86              1          0               1   \n",
       "2       8  159660.80              3          1               0   \n",
       "3       1       0.00              2          0               0   \n",
       "4       2  125510.82              1          1               1   \n",
       "\n",
       "   EstimatedSalary  Exited  \n",
       "0        101348.88       1  \n",
       "1        112542.58       0  \n",
       "2        113931.57       1  \n",
       "3         93826.63       0  \n",
       "4         79084.10       0  "
      ]
     },
     "execution_count": 5,
     "metadata": {},
     "output_type": "execute_result"
    }
   ],
   "source": [
    "dataset.head()"
   ]
  },
  {
   "cell_type": "code",
   "execution_count": 5,
   "metadata": {},
   "outputs": [
    {
     "data": {
      "text/plain": [
       "array([[619, 'France', 'Female', ..., 1, 1, 101348.88],\n",
       "       [608, 'Spain', 'Female', ..., 0, 1, 112542.58],\n",
       "       [502, 'France', 'Female', ..., 1, 0, 113931.57],\n",
       "       ...,\n",
       "       [709, 'France', 'Female', ..., 0, 1, 42085.58],\n",
       "       [772, 'Germany', 'Male', ..., 1, 0, 92888.52],\n",
       "       [792, 'France', 'Female', ..., 1, 0, 38190.78]], dtype=object)"
      ]
     },
     "execution_count": 5,
     "metadata": {},
     "output_type": "execute_result"
    }
   ],
   "source": [
    "X"
   ]
  },
  {
   "cell_type": "code",
   "execution_count": 6,
   "metadata": {},
   "outputs": [
    {
     "data": {
      "text/plain": [
       "array([1, 0, 1, ..., 1, 1, 0])"
      ]
     },
     "execution_count": 6,
     "metadata": {},
     "output_type": "execute_result"
    }
   ],
   "source": [
    "y"
   ]
  },
  {
   "cell_type": "code",
   "execution_count": 7,
   "metadata": {},
   "outputs": [],
   "source": [
    "#Label Encoding \n",
    "#its a preprocessing step converting the labels into numeric form \n",
    "#so as to convert it into the machine-readable form"
   ]
  },
  {
   "cell_type": "code",
   "execution_count": 8,
   "metadata": {},
   "outputs": [],
   "source": [
    "#one hot encoding \n",
    "#It refers to splitting the column which contains numerical categorical data \n",
    "#to many columns depending on the number of categories present in that column. \n",
    "#Each column contains “0” or “1” corresponding to which column it has been placed."
   ]
  },
  {
   "cell_type": "code",
   "execution_count": 9,
   "metadata": {},
   "outputs": [],
   "source": [
    "#remove dummy variables\n",
    "#The Dummy Variable trap is a scenario in which the independent variables are multicollinear - \n",
    "#two or more variables are highly correlated; in simple terms one variable can be predicted from the others."
   ]
  },
  {
   "cell_type": "code",
   "execution_count": 10,
   "metadata": {},
   "outputs": [],
   "source": [
    "from sklearn.preprocessing import LabelEncoder, OneHotEncoder\n",
    "from sklearn.compose import ColumnTransformer\n",
    "labelencoder_X_1 = LabelEncoder()\n",
    "X[:, 1] = labelencoder_X_1.fit_transform(X[:, 1])\n",
    "labelencoder_X_2 = LabelEncoder()\n",
    "X[:, 2] = labelencoder_X_2.fit_transform(X[:, 2])"
   ]
  },
  {
   "cell_type": "code",
   "execution_count": 11,
   "metadata": {},
   "outputs": [
    {
     "data": {
      "text/plain": [
       "array([0, 1, 2], dtype=object)"
      ]
     },
     "execution_count": 11,
     "metadata": {},
     "output_type": "execute_result"
    }
   ],
   "source": [
    "np.unique(X[:, 1])"
   ]
  },
  {
   "cell_type": "code",
   "execution_count": 12,
   "metadata": {},
   "outputs": [],
   "source": [
    "columnTransformer = ColumnTransformer([('encoder', OneHotEncoder(), [1])], remainder='passthrough')\n",
    "X = np.array(columnTransformer.fit_transform(X), dtype = np.float)\n",
    "\n",
    "#remove dummy variables \n",
    "X = X[:, 1:]"
   ]
  },
  {
   "cell_type": "code",
   "execution_count": 13,
   "metadata": {},
   "outputs": [
    {
     "data": {
      "text/plain": [
       "array([[0.0000000e+00, 0.0000000e+00, 6.1900000e+02, ..., 1.0000000e+00,\n",
       "        1.0000000e+00, 1.0134888e+05],\n",
       "       [0.0000000e+00, 1.0000000e+00, 6.0800000e+02, ..., 0.0000000e+00,\n",
       "        1.0000000e+00, 1.1254258e+05],\n",
       "       [0.0000000e+00, 0.0000000e+00, 5.0200000e+02, ..., 1.0000000e+00,\n",
       "        0.0000000e+00, 1.1393157e+05],\n",
       "       ...,\n",
       "       [0.0000000e+00, 0.0000000e+00, 7.0900000e+02, ..., 0.0000000e+00,\n",
       "        1.0000000e+00, 4.2085580e+04],\n",
       "       [1.0000000e+00, 0.0000000e+00, 7.7200000e+02, ..., 1.0000000e+00,\n",
       "        0.0000000e+00, 9.2888520e+04],\n",
       "       [0.0000000e+00, 0.0000000e+00, 7.9200000e+02, ..., 1.0000000e+00,\n",
       "        0.0000000e+00, 3.8190780e+04]])"
      ]
     },
     "execution_count": 13,
     "metadata": {},
     "output_type": "execute_result"
    }
   ],
   "source": [
    "X"
   ]
  },
  {
   "cell_type": "code",
   "execution_count": 14,
   "metadata": {},
   "outputs": [],
   "source": [
    "from sklearn.model_selection import train_test_split\n",
    "X_train, X_test, y_train, y_test = train_test_split(X, y, test_size = 0.2, random_state = 0)"
   ]
  },
  {
   "cell_type": "code",
   "execution_count": 15,
   "metadata": {},
   "outputs": [],
   "source": [
    "#StandardScaler : It transforms the data in such a manner that it has mean as 0 and standard deviation as 1.\n",
    "#Standardization is useful for data which has negative values. It arranges the data in normal distribution"
   ]
  },
  {
   "cell_type": "code",
   "execution_count": 16,
   "metadata": {},
   "outputs": [],
   "source": [
    "from sklearn.preprocessing import StandardScaler\n",
    "sc = StandardScaler()\n",
    "X_train = sc.fit_transform(X_train)\n",
    "X_test = sc.transform(X_test)"
   ]
  },
  {
   "cell_type": "code",
   "execution_count": 17,
   "metadata": {},
   "outputs": [],
   "source": [
    "#Keras is an open source neural network library written in Python. It is capable of running on top of TensorFlow. \n",
    "#It is designed to enable fast experimentation with deep neural networks."
   ]
  },
  {
   "cell_type": "code",
   "execution_count": 18,
   "metadata": {},
   "outputs": [],
   "source": [
    "#Tensor flow:- math library that is used for machine learning applications like neural networks."
   ]
  },
  {
   "cell_type": "code",
   "execution_count": 19,
   "metadata": {},
   "outputs": [
    {
     "name": "stderr",
     "output_type": "stream",
     "text": [
      "Using TensorFlow backend.\n"
     ]
    }
   ],
   "source": [
    "import keras\n",
    "from keras.models import Sequential\n",
    "from keras.layers import Dense"
   ]
  },
  {
   "cell_type": "code",
   "execution_count": 20,
   "metadata": {},
   "outputs": [
    {
     "name": "stdout",
     "output_type": "stream",
     "text": [
      "WARNING:tensorflow:From /Users/upendravarma/anaconda3/envs/ml/lib/python3.7/site-packages/tensorflow/python/ops/resource_variable_ops.py:435: colocate_with (from tensorflow.python.framework.ops) is deprecated and will be removed in a future version.\n",
      "Instructions for updating:\n",
      "Colocations handled automatically by placer.\n",
      "WARNING:tensorflow:From /Users/upendravarma/anaconda3/envs/ml/lib/python3.7/site-packages/tensorflow/python/ops/math_ops.py:3066: to_int32 (from tensorflow.python.ops.math_ops) is deprecated and will be removed in a future version.\n",
      "Instructions for updating:\n",
      "Use tf.cast instead.\n",
      "Epoch 1/100\n",
      "8000/8000 [==============================] - 3s 335us/step - loss: 0.4950 - accuracy: 0.7956\n",
      "Epoch 2/100\n",
      "8000/8000 [==============================] - 2s 199us/step - loss: 0.4183 - accuracy: 0.8119\n",
      "Epoch 3/100\n",
      "8000/8000 [==============================] - 2s 195us/step - loss: 0.4042 - accuracy: 0.8261\n",
      "Epoch 4/100\n",
      "8000/8000 [==============================] - 2s 220us/step - loss: 0.3934 - accuracy: 0.8294\n",
      "Epoch 5/100\n",
      "8000/8000 [==============================] - 2s 219us/step - loss: 0.3856 - accuracy: 0.82900s\n",
      "Epoch 6/100\n",
      "8000/8000 [==============================] - 2s 201us/step - loss: 0.3800 - accuracy: 0.8299\n",
      "Epoch 7/100\n",
      "8000/8000 [==============================] - 2s 194us/step - loss: 0.3753 - accuracy: 0.8354\n",
      "Epoch 8/100\n",
      "8000/8000 [==============================] - 2s 204us/step - loss: 0.3723 - accuracy: 0.8439\n",
      "Epoch 9/100\n",
      "8000/8000 [==============================] - 2s 213us/step - loss: 0.3691 - accuracy: 0.8490\n",
      "Epoch 10/100\n",
      "8000/8000 [==============================] - 2s 218us/step - loss: 0.3671 - accuracy: 0.8496\n",
      "Epoch 11/100\n",
      "8000/8000 [==============================] - 2s 216us/step - loss: 0.3643 - accuracy: 0.8501\n",
      "Epoch 12/100\n",
      "8000/8000 [==============================] - 2s 209us/step - loss: 0.3622 - accuracy: 0.8514\n",
      "Epoch 13/100\n",
      "8000/8000 [==============================] - 2s 197us/step - loss: 0.3612 - accuracy: 0.8528\n",
      "Epoch 14/100\n",
      "8000/8000 [==============================] - 2s 200us/step - loss: 0.3596 - accuracy: 0.8497\n",
      "Epoch 15/100\n",
      "8000/8000 [==============================] - 2s 196us/step - loss: 0.3577 - accuracy: 0.8531\n",
      "Epoch 16/100\n",
      "8000/8000 [==============================] - 2s 222us/step - loss: 0.3565 - accuracy: 0.8519\n",
      "Epoch 17/100\n",
      "8000/8000 [==============================] - 2s 205us/step - loss: 0.3556 - accuracy: 0.8545\n",
      "Epoch 18/100\n",
      "8000/8000 [==============================] - 2s 193us/step - loss: 0.3546 - accuracy: 0.8554\n",
      "Epoch 19/100\n",
      "8000/8000 [==============================] - 2s 197us/step - loss: 0.3541 - accuracy: 0.8556\n",
      "Epoch 20/100\n",
      "8000/8000 [==============================] - 2s 198us/step - loss: 0.3536 - accuracy: 0.8565\n",
      "Epoch 21/100\n",
      "8000/8000 [==============================] - 2s 195us/step - loss: 0.3517 - accuracy: 0.8546\n",
      "Epoch 22/100\n",
      "8000/8000 [==============================] - 2s 196us/step - loss: 0.3517 - accuracy: 0.8575\n",
      "Epoch 23/100\n",
      "8000/8000 [==============================] - 2s 197us/step - loss: 0.3508 - accuracy: 0.8589\n",
      "Epoch 24/100\n",
      "8000/8000 [==============================] - 2s 216us/step - loss: 0.3503 - accuracy: 0.8555\n",
      "Epoch 25/100\n",
      "8000/8000 [==============================] - 2s 246us/step - loss: 0.3499 - accuracy: 0.8580\n",
      "Epoch 26/100\n",
      "8000/8000 [==============================] - 2s 262us/step - loss: 0.3487 - accuracy: 0.8569\n",
      "Epoch 27/100\n",
      "8000/8000 [==============================] - 2s 221us/step - loss: 0.3488 - accuracy: 0.8577\n",
      "Epoch 28/100\n",
      "8000/8000 [==============================] - 2s 206us/step - loss: 0.3476 - accuracy: 0.85910s - los\n",
      "Epoch 29/100\n",
      "8000/8000 [==============================] - 2s 200us/step - loss: 0.3482 - accuracy: 0.8587\n",
      "Epoch 30/100\n",
      "8000/8000 [==============================] - 2s 216us/step - loss: 0.3488 - accuracy: 0.8551\n",
      "Epoch 31/100\n",
      "8000/8000 [==============================] - 2s 206us/step - loss: 0.3472 - accuracy: 0.8587\n",
      "Epoch 32/100\n",
      "8000/8000 [==============================] - 2s 198us/step - loss: 0.3464 - accuracy: 0.8583\n",
      "Epoch 33/100\n",
      "8000/8000 [==============================] - 2s 199us/step - loss: 0.3464 - accuracy: 0.8601\n",
      "Epoch 34/100\n",
      "8000/8000 [==============================] - 2s 208us/step - loss: 0.3466 - accuracy: 0.85910s - loss: 0.3460 - accuracy: 0.\n",
      "Epoch 35/100\n",
      "8000/8000 [==============================] - 2s 201us/step - loss: 0.3462 - accuracy: 0.85910s - loss: 0.3\n",
      "Epoch 36/100\n",
      "8000/8000 [==============================] - 2s 197us/step - loss: 0.3455 - accuracy: 0.8571\n",
      "Epoch 37/100\n",
      "8000/8000 [==============================] - 2s 216us/step - loss: 0.3464 - accuracy: 0.8612\n",
      "Epoch 38/100\n",
      "8000/8000 [==============================] - 2s 204us/step - loss: 0.3452 - accuracy: 0.8581\n",
      "Epoch 39/100\n",
      "8000/8000 [==============================] - 2s 214us/step - loss: 0.3454 - accuracy: 0.8583\n",
      "Epoch 40/100\n",
      "8000/8000 [==============================] - 2s 219us/step - loss: 0.3449 - accuracy: 0.8608\n",
      "Epoch 41/100\n",
      "8000/8000 [==============================] - 2s 199us/step - loss: 0.3445 - accuracy: 0.8624\n",
      "Epoch 42/100\n",
      "8000/8000 [==============================] - 2s 195us/step - loss: 0.3428 - accuracy: 0.8591\n",
      "Epoch 43/100\n",
      "8000/8000 [==============================] - 2s 198us/step - loss: 0.3443 - accuracy: 0.8577\n",
      "Epoch 44/100\n",
      "8000/8000 [==============================] - 2s 218us/step - loss: 0.3442 - accuracy: 0.8606\n",
      "Epoch 45/100\n",
      "8000/8000 [==============================] - 2s 211us/step - loss: 0.3428 - accuracy: 0.85930s -\n",
      "Epoch 46/100\n",
      "8000/8000 [==============================] - 2s 196us/step - loss: 0.3422 - accuracy: 0.8595\n",
      "Epoch 47/100\n",
      "8000/8000 [==============================] - 2s 189us/step - loss: 0.3430 - accuracy: 0.8609\n",
      "Epoch 48/100\n",
      "8000/8000 [==============================] - 2s 194us/step - loss: 0.3418 - accuracy: 0.8621\n",
      "Epoch 49/100\n",
      "8000/8000 [==============================] - 2s 234us/step - loss: 0.3412 - accuracy: 0.8609\n",
      "Epoch 50/100\n",
      "8000/8000 [==============================] - 2s 210us/step - loss: 0.3419 - accuracy: 0.85930s - l\n",
      "Epoch 51/100\n",
      "8000/8000 [==============================] - 2s 196us/step - loss: 0.3404 - accuracy: 0.8596\n",
      "Epoch 52/100\n",
      "8000/8000 [==============================] - 2s 209us/step - loss: 0.3400 - accuracy: 0.8583\n",
      "Epoch 53/100\n",
      "8000/8000 [==============================] - 2s 218us/step - loss: 0.3399 - accuracy: 0.8616\n",
      "Epoch 54/100\n",
      "8000/8000 [==============================] - 2s 249us/step - loss: 0.3399 - accuracy: 0.8612\n",
      "Epoch 55/100\n",
      "8000/8000 [==============================] - 2s 222us/step - loss: 0.3397 - accuracy: 0.8616\n",
      "Epoch 56/100\n",
      "8000/8000 [==============================] - 2s 192us/step - loss: 0.3391 - accuracy: 0.8604\n",
      "Epoch 57/100\n",
      "8000/8000 [==============================] - 2s 196us/step - loss: 0.3397 - accuracy: 0.8609\n",
      "Epoch 58/100\n",
      "8000/8000 [==============================] - 1s 185us/step - loss: 0.3384 - accuracy: 0.86160s - loss: 0.3388 - \n",
      "Epoch 59/100\n",
      "8000/8000 [==============================] - 2s 191us/step - loss: 0.3389 - accuracy: 0.8602\n",
      "Epoch 60/100\n",
      "8000/8000 [==============================] - 2s 188us/step - loss: 0.3389 - accuracy: 0.8618\n",
      "Epoch 61/100\n",
      "8000/8000 [==============================] - 2s 191us/step - loss: 0.3386 - accuracy: 0.8612\n",
      "Epoch 62/100\n",
      "8000/8000 [==============================] - 2s 189us/step - loss: 0.3380 - accuracy: 0.8606\n",
      "Epoch 63/100\n",
      "8000/8000 [==============================] - 2s 196us/step - loss: 0.3378 - accuracy: 0.8627\n",
      "Epoch 64/100\n",
      "8000/8000 [==============================] - 2s 190us/step - loss: 0.3391 - accuracy: 0.8606\n",
      "Epoch 65/100\n",
      "8000/8000 [==============================] - 2s 191us/step - loss: 0.3379 - accuracy: 0.8606\n",
      "Epoch 66/100\n",
      "8000/8000 [==============================] - 2s 194us/step - loss: 0.3381 - accuracy: 0.8584\n",
      "Epoch 67/100\n",
      "8000/8000 [==============================] - 2s 194us/step - loss: 0.3383 - accuracy: 0.8634\n",
      "Epoch 68/100\n",
      "8000/8000 [==============================] - 2s 203us/step - loss: 0.3380 - accuracy: 0.8612\n",
      "Epoch 69/100\n",
      "8000/8000 [==============================] - 2s 191us/step - loss: 0.3380 - accuracy: 0.8620\n",
      "Epoch 70/100\n",
      "8000/8000 [==============================] - 2s 189us/step - loss: 0.3380 - accuracy: 0.8614\n",
      "Epoch 71/100\n",
      "8000/8000 [==============================] - 2s 190us/step - loss: 0.3380 - accuracy: 0.8604\n",
      "Epoch 72/100\n",
      "8000/8000 [==============================] - 2s 190us/step - loss: 0.3381 - accuracy: 0.8586\n",
      "Epoch 73/100\n",
      "8000/8000 [==============================] - 1s 186us/step - loss: 0.3375 - accuracy: 0.8621\n",
      "Epoch 74/100\n",
      "8000/8000 [==============================] - 2s 201us/step - loss: 0.3374 - accuracy: 0.8605\n",
      "Epoch 75/100\n",
      "8000/8000 [==============================] - 2s 216us/step - loss: 0.3376 - accuracy: 0.8605\n",
      "Epoch 76/100\n",
      "8000/8000 [==============================] - 2s 222us/step - loss: 0.3383 - accuracy: 0.8621\n",
      "Epoch 77/100\n",
      "8000/8000 [==============================] - 2s 228us/step - loss: 0.3370 - accuracy: 0.8586\n",
      "Epoch 78/100\n",
      "8000/8000 [==============================] - 2s 219us/step - loss: 0.3376 - accuracy: 0.85960s\n",
      "Epoch 79/100\n",
      "8000/8000 [==============================] - 2s 215us/step - loss: 0.3363 - accuracy: 0.8615\n",
      "Epoch 80/100\n",
      "8000/8000 [==============================] - 2s 206us/step - loss: 0.3374 - accuracy: 0.8601\n",
      "Epoch 81/100\n",
      "8000/8000 [==============================] - 2s 209us/step - loss: 0.3374 - accuracy: 0.8602\n",
      "Epoch 82/100\n",
      "8000/8000 [==============================] - 2s 203us/step - loss: 0.3362 - accuracy: 0.8587\n",
      "Epoch 83/100\n",
      "8000/8000 [==============================] - 2s 202us/step - loss: 0.3376 - accuracy: 0.8620\n",
      "Epoch 84/100\n",
      "8000/8000 [==============================] - 2s 207us/step - loss: 0.3375 - accuracy: 0.8637\n",
      "Epoch 85/100\n",
      "8000/8000 [==============================] - 2s 224us/step - loss: 0.3378 - accuracy: 0.86110s - loss: 0.3357 - accu\n",
      "Epoch 86/100\n",
      "8000/8000 [==============================] - 1s 177us/step - loss: 0.3372 - accuracy: 0.86100s - loss: 0.3404 - accuracy\n",
      "Epoch 87/100\n",
      "8000/8000 [==============================] - 2s 192us/step - loss: 0.3371 - accuracy: 0.8606\n",
      "Epoch 88/100\n",
      "8000/8000 [==============================] - 2s 208us/step - loss: 0.3371 - accuracy: 0.8624\n",
      "Epoch 89/100\n",
      "8000/8000 [==============================] - 2s 201us/step - loss: 0.3367 - accuracy: 0.8589\n",
      "Epoch 90/100\n",
      "8000/8000 [==============================] - 2s 199us/step - loss: 0.3371 - accuracy: 0.8602\n",
      "Epoch 91/100\n",
      "8000/8000 [==============================] - 2s 195us/step - loss: 0.3371 - accuracy: 0.8616\n",
      "Epoch 92/100\n",
      "8000/8000 [==============================] - 2s 205us/step - loss: 0.3363 - accuracy: 0.8610\n",
      "Epoch 93/100\n",
      "8000/8000 [==============================] - 2s 225us/step - loss: 0.3365 - accuracy: 0.8610\n",
      "Epoch 94/100\n",
      "8000/8000 [==============================] - 2s 214us/step - loss: 0.3370 - accuracy: 0.8616\n",
      "Epoch 95/100\n",
      "8000/8000 [==============================] - 2s 216us/step - loss: 0.3378 - accuracy: 0.8611\n",
      "Epoch 96/100\n",
      "8000/8000 [==============================] - 2s 222us/step - loss: 0.3368 - accuracy: 0.8620\n",
      "Epoch 97/100\n",
      "8000/8000 [==============================] - 2s 212us/step - loss: 0.3369 - accuracy: 0.8615\n",
      "Epoch 98/100\n",
      "8000/8000 [==============================] - 2s 211us/step - loss: 0.3372 - accuracy: 0.8634\n",
      "Epoch 99/100\n",
      "8000/8000 [==============================] - 2s 220us/step - loss: 0.3374 - accuracy: 0.8608\n",
      "Epoch 100/100\n",
      "8000/8000 [==============================] - 2s 210us/step - loss: 0.3379 - accuracy: 0.8591\n"
     ]
    },
    {
     "data": {
      "text/plain": [
       "<keras.callbacks.callbacks.History at 0x1a315be2d0>"
      ]
     },
     "execution_count": 20,
     "metadata": {},
     "output_type": "execute_result"
    }
   ],
   "source": [
    "# Initialising the ANN\n",
    "#Linear stack of layers.\n",
    "classifier = Sequential()\n",
    "#`Dense` implements the operation:\n",
    "#`output = activation(dot(input, kernel) + bias)`\n",
    "#where `activation` is the element-wise activation function\n",
    "#passed as the `activation` argument, `kernel` is a weights matrix\n",
    "#created by the layer, and `bias` is a bias vector created by the layer\n",
    "# Adding the input layer and the first hidden layer\n",
    "#Adds a layer instance on top of the layer stack.\n",
    "#uniformly distributed weights\n",
    "classifier.add(Dense(output_dim = 6, init = 'uniform', activation = 'relu', input_dim = 11))\n",
    "# Adding the second hidden layer\n",
    "classifier.add(Dense(output_dim = 6, init = 'uniform', activation = 'relu'))\n",
    "# Adding the output layer\n",
    "classifier.add(Dense(output_dim = 1, init = 'uniform', activation = 'sigmoid'))\n",
    "#cross entropy log loss\n",
    "#measures the performance of a classification model whose output is a probability value between 0 and 1. \n",
    "#Cross-entropy loss increases as the predicted probability diverges from the actual label.\n",
    "#accuracy is the fraction of predictions our model got right\n",
    "# Compiling the ANN\n",
    "classifier.compile(optimizer = 'adam', loss = 'binary_crossentropy', metrics = ['accuracy'])\n",
    "# Fitting the ANN to the Training set\n",
    "classifier.fit(X_train, y_train, batch_size = 10, nb_epoch = 100)"
   ]
  },
  {
   "cell_type": "code",
   "execution_count": 21,
   "metadata": {},
   "outputs": [],
   "source": [
    "# Predicting the Test set results\n",
    "y_pred = classifier.predict(X_test)\n",
    "y_pred = (y_pred > 0.5)\n",
    "\n",
    "# Making the Confusion Matrix\n",
    "from sklearn.metrics import confusion_matrix\n",
    "cm = confusion_matrix(y_test, y_pred)"
   ]
  },
  {
   "cell_type": "code",
   "execution_count": 22,
   "metadata": {},
   "outputs": [
    {
     "data": {
      "text/plain": [
       "array([[1491,  104],\n",
       "       [ 175,  230]])"
      ]
     },
     "execution_count": 22,
     "metadata": {},
     "output_type": "execute_result"
    }
   ],
   "source": [
    "cm"
   ]
  },
  {
   "cell_type": "code",
   "execution_count": 23,
   "metadata": {},
   "outputs": [
    {
     "data": {
      "text/plain": [
       "array([[False],\n",
       "       [False],\n",
       "       [False],\n",
       "       ...,\n",
       "       [False],\n",
       "       [False],\n",
       "       [False]])"
      ]
     },
     "execution_count": 23,
     "metadata": {},
     "output_type": "execute_result"
    }
   ],
   "source": [
    "y_pred"
   ]
  },
  {
   "cell_type": "code",
   "execution_count": 27,
   "metadata": {},
   "outputs": [
    {
     "data": {
      "text/plain": [
       "(8000, 11)"
      ]
     },
     "execution_count": 27,
     "metadata": {},
     "output_type": "execute_result"
    }
   ],
   "source": [
    "X_train.shape"
   ]
  },
  {
   "cell_type": "code",
   "execution_count": 30,
   "metadata": {},
   "outputs": [
    {
     "name": "stdout",
     "output_type": "stream",
     "text": [
      "Model: \"sequential_1\"\n",
      "_________________________________________________________________\n",
      "Layer (type)                 Output Shape              Param #   \n",
      "=================================================================\n",
      "dense_1 (Dense)              (None, 6)                 72        \n",
      "_________________________________________________________________\n",
      "dense_2 (Dense)              (None, 6)                 42        \n",
      "_________________________________________________________________\n",
      "dense_3 (Dense)              (None, 1)                 7         \n",
      "=================================================================\n",
      "Total params: 121\n",
      "Trainable params: 121\n",
      "Non-trainable params: 0\n",
      "_________________________________________________________________\n"
     ]
    }
   ],
   "source": [
    "classifier.summary()"
   ]
  },
  {
   "cell_type": "code",
   "execution_count": null,
   "metadata": {},
   "outputs": [],
   "source": []
  }
 ],
 "metadata": {
  "kernelspec": {
   "display_name": "Python 3",
   "language": "python",
   "name": "python3"
  },
  "language_info": {
   "codemirror_mode": {
    "name": "ipython",
    "version": 3
   },
   "file_extension": ".py",
   "mimetype": "text/x-python",
   "name": "python",
   "nbconvert_exporter": "python",
   "pygments_lexer": "ipython3",
   "version": "3.6.8"
  }
 },
 "nbformat": 4,
 "nbformat_minor": 2
}
