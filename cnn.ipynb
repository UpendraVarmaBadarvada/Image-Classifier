{
 "cells": [
  {
   "cell_type": "markdown",
   "metadata": {},
   "source": [
    "# cnn "
   ]
  },
  {
   "cell_type": "code",
   "execution_count": 1,
   "metadata": {},
   "outputs": [],
   "source": [
    "import warnings\n",
    "warnings.filterwarnings(\"ignore\")"
   ]
  },
  {
   "cell_type": "code",
   "execution_count": 2,
   "metadata": {},
   "outputs": [
    {
     "name": "stderr",
     "output_type": "stream",
     "text": [
      "Using TensorFlow backend.\n"
     ]
    }
   ],
   "source": [
    "# Part 1 - Building the CNN\n",
    "# Importing the Keras libraries and packages\n",
    "from keras.models import Sequential\n",
    "from keras.layers import Conv2D\n",
    "from keras.layers import MaxPooling2D\n",
    "from keras.layers import Flatten\n",
    "from keras.layers import Dense"
   ]
  },
  {
   "cell_type": "code",
   "execution_count": 3,
   "metadata": {},
   "outputs": [],
   "source": [
    "# Initialising the CNN\n",
    "classifier = Sequential()"
   ]
  },
  {
   "cell_type": "code",
   "execution_count": 4,
   "metadata": {},
   "outputs": [
    {
     "name": "stdout",
     "output_type": "stream",
     "text": [
      "WARNING:tensorflow:From /Users/upendravarma/anaconda3/envs/ml/lib/python3.7/site-packages/tensorflow/python/ops/resource_variable_ops.py:435: colocate_with (from tensorflow.python.framework.ops) is deprecated and will be removed in a future version.\n",
      "Instructions for updating:\n",
      "Colocations handled automatically by placer.\n"
     ]
    }
   ],
   "source": [
    "# Step 1 - Convolution\n",
    "#32 feature detectors and feature maps of 3x3 size and input shape is 64x64 having 3 channels(Red Green Blue)\n",
    "#relu removes any negative pixels and adds non linearity \n",
    "classifier.add(Conv2D(32, (3, 3), input_shape = (64, 64, 3), activation = 'relu'))"
   ]
  },
  {
   "cell_type": "code",
   "execution_count": 5,
   "metadata": {},
   "outputs": [],
   "source": [
    "# Step 2 - Max Pooling\n",
    "classifier.add(MaxPooling2D(pool_size = (2, 2)))"
   ]
  },
  {
   "cell_type": "code",
   "execution_count": 6,
   "metadata": {},
   "outputs": [],
   "source": [
    "# Adding a second convolutional layer\n",
    "classifier.add(Conv2D(32, (3, 3), activation = 'relu'))\n",
    "classifier.add(MaxPooling2D(pool_size = (2, 2)))"
   ]
  },
  {
   "cell_type": "code",
   "execution_count": 7,
   "metadata": {},
   "outputs": [],
   "source": [
    "# Step 3 - Flattening\n",
    "classifier.add(Flatten())"
   ]
  },
  {
   "cell_type": "code",
   "execution_count": 8,
   "metadata": {},
   "outputs": [],
   "source": [
    "# Step 4 - Full connection \n",
    "#units same as output_dim\n",
    "classifier.add(Dense(units = 128, activation = 'relu'))\n",
    "classifier.add(Dense(units = 1, activation = 'sigmoid'))"
   ]
  },
  {
   "cell_type": "code",
   "execution_count": 9,
   "metadata": {},
   "outputs": [],
   "source": [
    "# Compiling the CNN\n",
    "#we use stochastic gradient descent with loss function of cross entropy \n",
    "classifier.compile(optimizer = 'adam', loss = 'binary_crossentropy', metrics = ['accuracy'])"
   ]
  },
  {
   "cell_type": "code",
   "execution_count": 10,
   "metadata": {},
   "outputs": [],
   "source": [
    "# Part 2 - Fitting the CNN to the images\n",
    "from keras.preprocessing.image import ImageDataGenerator"
   ]
  },
  {
   "cell_type": "code",
   "execution_count": 11,
   "metadata": {},
   "outputs": [],
   "source": [
    "#shear_range:Shear angle in counter-clockwise direction in degrees\n",
    "#rescale:-we multiply the data by the value provided after applying all other transformations.\n",
    "#Generate batches of tensor image data with real-time data augmentation."
   ]
  },
  {
   "cell_type": "code",
   "execution_count": 12,
   "metadata": {},
   "outputs": [],
   "source": [
    "train_datagen = ImageDataGenerator(rescale = 1./255,\n",
    "                                   shear_range = 0.2,\n",
    "                                   zoom_range = 0.2,\n",
    "                                   horizontal_flip = True)\n",
    "\n",
    "test_datagen = ImageDataGenerator(rescale = 1./255)"
   ]
  },
  {
   "cell_type": "code",
   "execution_count": 13,
   "metadata": {},
   "outputs": [
    {
     "name": "stdout",
     "output_type": "stream",
     "text": [
      "Found 2000 images belonging to 2 classes.\n",
      "Found 800 images belonging to 2 classes.\n"
     ]
    }
   ],
   "source": [
    "training_set = train_datagen.flow_from_directory('dataset/training_set',\n",
    "                                                 target_size = (64, 64),\n",
    "                                                 batch_size = 32,\n",
    "                                                 class_mode = 'binary')\n",
    "\n",
    "test_set = test_datagen.flow_from_directory('dataset/test_set',\n",
    "                                            target_size = (64, 64),\n",
    "                                            batch_size = 32,\n",
    "                                            class_mode = 'binary')"
   ]
  },
  {
   "cell_type": "code",
   "execution_count": 14,
   "metadata": {},
   "outputs": [
    {
     "name": "stdout",
     "output_type": "stream",
     "text": [
      "WARNING:tensorflow:From /Users/upendravarma/anaconda3/envs/ml/lib/python3.7/site-packages/tensorflow/python/ops/math_ops.py:3066: to_int32 (from tensorflow.python.ops.math_ops) is deprecated and will be removed in a future version.\n",
      "Instructions for updating:\n",
      "Use tf.cast instead.\n",
      "Epoch 1/25\n",
      "2000/2000 [==============================] - 784s 392ms/step - loss: 0.4269 - accuracy: 0.7941 - val_loss: 0.7103 - val_accuracy: 0.7487\n",
      "Epoch 2/25\n",
      "2000/2000 [==============================] - 705s 352ms/step - loss: 0.1341 - accuracy: 0.9481 - val_loss: 1.0887 - val_accuracy: 0.7613\n",
      "Epoch 3/25\n",
      "2000/2000 [==============================] - 2387s 1s/step - loss: 0.0462 - accuracy: 0.9840 - val_loss: 0.8456 - val_accuracy: 0.7650\n",
      "Epoch 4/25\n",
      "2000/2000 [==============================] - 887s 443ms/step - loss: 0.0321 - accuracy: 0.9891 - val_loss: 0.9853 - val_accuracy: 0.7412\n",
      "Epoch 5/25\n",
      "2000/2000 [==============================] - 861s 430ms/step - loss: 0.0208 - accuracy: 0.9934 - val_loss: 1.7545 - val_accuracy: 0.7588\n",
      "Epoch 6/25\n",
      "2000/2000 [==============================] - 975s 488ms/step - loss: 0.0209 - accuracy: 0.9931 - val_loss: 2.0852 - val_accuracy: 0.7425\n",
      "Epoch 7/25\n",
      "2000/2000 [==============================] - 6277s 3s/step - loss: 0.0147 - accuracy: 0.9952 - val_loss: 1.2866 - val_accuracy: 0.7588\n",
      "Epoch 8/25\n",
      "2000/2000 [==============================] - 594s 297ms/step - loss: 0.0161 - accuracy: 0.9948 - val_loss: 1.5458 - val_accuracy: 0.7475\n",
      "Epoch 9/25\n",
      "2000/2000 [==============================] - 788s 394ms/step - loss: 0.0142 - accuracy: 0.9953 - val_loss: 2.4079 - val_accuracy: 0.7500\n",
      "Epoch 10/25\n",
      "2000/2000 [==============================] - 790s 395ms/step - loss: 0.0156 - accuracy: 0.9952 - val_loss: 2.1239 - val_accuracy: 0.7487\n",
      "Epoch 11/25\n",
      "2000/2000 [==============================] - 1842s 921ms/step - loss: 0.0104 - accuracy: 0.9967 - val_loss: 0.5706 - val_accuracy: 0.7513\n",
      "Epoch 12/25\n",
      "2000/2000 [==============================] - 2195s 1s/step - loss: 0.0117 - accuracy: 0.9963 - val_loss: 1.9035 - val_accuracy: 0.7625\n",
      "Epoch 13/25\n",
      "2000/2000 [==============================] - 2422s 1s/step - loss: 0.0088 - accuracy: 0.9973 - val_loss: 1.9313 - val_accuracy: 0.7387\n",
      "Epoch 14/25\n",
      "2000/2000 [==============================] - 912s 456ms/step - loss: 0.0113 - accuracy: 0.9967 - val_loss: 1.8698 - val_accuracy: 0.7588\n",
      "Epoch 15/25\n",
      "2000/2000 [==============================] - 556s 278ms/step - loss: 0.0097 - accuracy: 0.9970 - val_loss: 1.3876 - val_accuracy: 0.7425\n",
      "Epoch 16/25\n",
      "2000/2000 [==============================] - 1262s 631ms/step - loss: 0.0077 - accuracy: 0.9976 - val_loss: 3.1583 - val_accuracy: 0.7362\n",
      "Epoch 17/25\n",
      "2000/2000 [==============================] - 6433s 3s/step - loss: 0.0088 - accuracy: 0.9973 - val_loss: 2.9345 - val_accuracy: 0.7325\n",
      "Epoch 18/25\n",
      "2000/2000 [==============================] - 1045s 523ms/step - loss: 0.0106 - accuracy: 0.9968 - val_loss: 2.6095 - val_accuracy: 0.7325\n",
      "Epoch 19/25\n",
      "2000/2000 [==============================] - 776s 388ms/step - loss: 0.0069 - accuracy: 0.9980 - val_loss: 1.8516 - val_accuracy: 0.7538\n",
      "Epoch 20/25\n",
      "2000/2000 [==============================] - 7094s 4s/step - loss: 0.0059 - accuracy: 0.9981 - val_loss: 1.9571 - val_accuracy: 0.7425\n",
      "Epoch 21/25\n",
      "2000/2000 [==============================] - 1095s 548ms/step - loss: 0.0087 - accuracy: 0.9975 - val_loss: 1.0326 - val_accuracy: 0.7225\n",
      "Epoch 22/25\n",
      "2000/2000 [==============================] - 777s 388ms/step - loss: 0.0065 - accuracy: 0.9982 - val_loss: 4.1695 - val_accuracy: 0.7287\n",
      "Epoch 23/25\n",
      "2000/2000 [==============================] - 2297s 1s/step - loss: 0.0103 - accuracy: 0.9974 - val_loss: 2.2901 - val_accuracy: 0.7400\n",
      "Epoch 24/25\n",
      "2000/2000 [==============================] - 2079s 1s/step - loss: 0.0038 - accuracy: 0.9988 - val_loss: 1.4671 - val_accuracy: 0.7275\n",
      "Epoch 25/25\n",
      "2000/2000 [==============================] - 2958s 1s/step - loss: 0.0055 - accuracy: 0.9983 - val_loss: 1.9769 - val_accuracy: 0.7287\n"
     ]
    },
    {
     "data": {
      "text/plain": [
       "<keras.callbacks.callbacks.History at 0x624f28710>"
      ]
     },
     "execution_count": 14,
     "metadata": {},
     "output_type": "execute_result"
    }
   ],
   "source": [
    "classifier.fit_generator(training_set,\n",
    "                         steps_per_epoch = 2000,\n",
    "                         epochs = 25,\n",
    "                         validation_data = test_set,\n",
    "                         validation_steps = 800)"
   ]
  },
  {
   "cell_type": "code",
   "execution_count": 17,
   "metadata": {},
   "outputs": [],
   "source": [
    "# Part 3 - Making new predictions\n",
    "import numpy as np\n",
    "from keras.preprocessing import image\n",
    "test_image = image.load_img('dataset/single_prediction/cat_or_dog_2.jpg', target_size = (64, 64))\n",
    "test_image = image.img_to_array(test_image)\n",
    "#Expand the shape of an array\n",
    "test_image = np.expand_dims(test_image, axis = 0)\n",
    "result = classifier.predict(test_image)\n",
    "if result[0][0] == 1:\n",
    "    prediction = 'dog'\n",
    "else:\n",
    "    prediction = 'cat'"
   ]
  },
  {
   "cell_type": "code",
   "execution_count": 18,
   "metadata": {},
   "outputs": [
    {
     "data": {
      "text/plain": [
       "'cat'"
      ]
     },
     "execution_count": 18,
     "metadata": {},
     "output_type": "execute_result"
    }
   ],
   "source": [
    "prediction"
   ]
  }
 ],
 "metadata": {
  "kernelspec": {
   "display_name": "Python 3",
   "language": "python",
   "name": "python3"
  },
  "language_info": {
   "codemirror_mode": {
    "name": "ipython",
    "version": 3
   },
   "file_extension": ".py",
   "mimetype": "text/x-python",
   "name": "python",
   "nbconvert_exporter": "python",
   "pygments_lexer": "ipython3",
   "version": "3.7.5"
  }
 },
 "nbformat": 4,
 "nbformat_minor": 2
}
